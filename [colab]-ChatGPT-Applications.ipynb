{
 "cells": [
  {
   "cell_type": "markdown",
   "metadata": {
    "id": "R0cy-KzFPboW"
   },
   "source": [
    "#AI VIET NAM\n",
    "**Nguyen Quoc Thai**"
   ]
  },
  {
   "cell_type": "markdown",
   "metadata": {
    "id": "0psz-GNRPgPM"
   },
   "source": [
    "#ChatGPT Basic"
   ]
  },
  {
   "cell_type": "code",
   "execution_count": null,
   "metadata": {
    "id": "xskLzn0EA_et"
   },
   "outputs": [],
   "source": [
    "!pip install --upgrade --quiet openai"
   ]
  },
  {
   "cell_type": "code",
   "execution_count": null,
   "metadata": {
    "id": "q9TwEy_rjJ2S"
   },
   "outputs": [],
   "source": [
    "import openai\n",
    "import IPython"
   ]
  },
  {
   "cell_type": "code",
   "execution_count": null,
   "metadata": {
    "id": "DtREvkNPjNHy"
   },
   "outputs": [],
   "source": [
    "OPENAI_API_KEY = \"\"\n",
    "\n",
    "# OPENAI API configuration\n",
    "openai.api_key = OPENAI_API_KEY"
   ]
  },
  {
   "cell_type": "code",
   "execution_count": null,
   "metadata": {
    "id": "K6QLmj4Wj2RA"
   },
   "outputs": [],
   "source": [
    "def set_open_params(\n",
    "    model=\"text-davinci-003\",\n",
    "    temperature=0.7,\n",
    "    max_tokens=256,\n",
    "    top_p=1,\n",
    "    frequency_penalty=0,\n",
    "    presence_penalty=0,\n",
    "):\n",
    "    \"\"\" set openai parameters\"\"\"\n",
    "\n",
    "    openai_params = {}    \n",
    "\n",
    "    openai_params['model'] = model\n",
    "    openai_params['temperature'] = temperature\n",
    "    openai_params['max_tokens'] = max_tokens\n",
    "    openai_params['top_p'] = top_p\n",
    "    openai_params['frequency_penalty'] = frequency_penalty\n",
    "    openai_params['presence_penalty'] = presence_penalty\n",
    "    return openai_params\n",
    "\n",
    "def get_completion(params, prompt):\n",
    "    \"\"\" GET completion from openai api\"\"\"\n",
    "\n",
    "    response = openai.Completion.create(\n",
    "        engine = params['model'],\n",
    "        prompt = prompt,\n",
    "        temperature = params['temperature'],\n",
    "        max_tokens = params['max_tokens'],\n",
    "        top_p = params['top_p'],\n",
    "        frequency_penalty = params['frequency_penalty'],\n",
    "        presence_penalty = params['presence_penalty'],\n",
    "    )\n",
    "    return response\n",
    "\n",
    "def print_response(response):\n",
    "    return IPython.display.Markdown(response.choices[0].text)"
   ]
  },
  {
   "cell_type": "code",
   "execution_count": null,
   "metadata": {
    "id": "BueB5GWF-e--"
   },
   "outputs": [],
   "source": [
    "# basic parameters\n",
    "params = set_open_params()"
   ]
  },
  {
   "cell_type": "code",
   "execution_count": null,
   "metadata": {
    "colab": {
     "base_uri": "https://localhost:8080/",
     "height": 70
    },
    "executionInfo": {
     "elapsed": 1261,
     "status": "ok",
     "timestamp": 1685074348439,
     "user": {
      "displayName": "Thái Nguyễn Quốc",
      "userId": "03315292090052971901"
     },
     "user_tz": -420
    },
    "id": "3IWLNdE2j5p0",
    "outputId": "acbff231-485f-4cc6-869a-02b1147832d8"
   },
   "outputs": [
    {
     "data": {
      "text/markdown": [
       " blue\n",
       "\n",
       "The sky is blue in color, and is often full of fluffy white clouds!"
      ],
      "text/plain": [
       "<IPython.core.display.Markdown object>"
      ]
     },
     "execution_count": 6,
     "metadata": {},
     "output_type": "execute_result"
    }
   ],
   "source": [
    "# basic example\n",
    "prompt = \"The sky is\"\n",
    "\n",
    "response = get_completion(params, prompt)\n",
    "print_response(response)"
   ]
  },
  {
   "cell_type": "markdown",
   "metadata": {
    "id": "7MTb66KPPi4N"
   },
   "source": [
    "#ChatGPT using **langchain** library"
   ]
  },
  {
   "cell_type": "code",
   "execution_count": null,
   "metadata": {
    "colab": {
     "base_uri": "https://localhost:8080/"
    },
    "executionInfo": {
     "elapsed": 9161,
     "status": "ok",
     "timestamp": 1685087311513,
     "user": {
      "displayName": "Thái Nguyễn Quốc",
      "userId": "03315292090052971901"
     },
     "user_tz": -420
    },
    "id": "vHhM_eSrPlnZ",
    "outputId": "700f44eb-71c3-4a7a-a329-e7247e2978bb"
   },
   "outputs": [
    {
     "name": "stdout",
     "output_type": "stream",
     "text": [
      "\u001b[2K     \u001b[90m━━━━━━━━━━━━━━━━━━━━━━━━━━━━━━━━━━━━━━\u001b[0m \u001b[32m922.9/922.9 kB\u001b[0m \u001b[31m19.8 MB/s\u001b[0m eta \u001b[36m0:00:00\u001b[0m\n",
      "\u001b[2K     \u001b[90m━━━━━━━━━━━━━━━━━━━━━━━━━━━━━━━━━━━━━━━━\u001b[0m \u001b[32m90.0/90.0 kB\u001b[0m \u001b[31m10.9 MB/s\u001b[0m eta \u001b[36m0:00:00\u001b[0m\n",
      "\u001b[2K     \u001b[90m━━━━━━━━━━━━━━━━━━━━━━━━━━━━━━━━━━━━━━━━\u001b[0m \u001b[32m49.1/49.1 kB\u001b[0m \u001b[31m5.8 MB/s\u001b[0m eta \u001b[36m0:00:00\u001b[0m\n",
      "\u001b[?25h"
     ]
    }
   ],
   "source": [
    "!pip install --upgrade --quiet openai langchain"
   ]
  },
  {
   "cell_type": "code",
   "execution_count": null,
   "metadata": {
    "id": "CZLDmGFTPr2J"
   },
   "outputs": [],
   "source": [
    "import openai\n",
    "import os\n",
    "import IPython\n",
    "from langchain.llms import OpenAI"
   ]
  },
  {
   "cell_type": "code",
   "execution_count": null,
   "metadata": {
    "id": "pGbHgXLbPvhh"
   },
   "outputs": [],
   "source": [
    "from langchain.chat_models import ChatOpenAI\n",
    "from langchain import PromptTemplate, LLMChain\n",
    "from langchain.schema import (\n",
    "    AIMessage,\n",
    "    HumanMessage,\n",
    "    SystemMessage\n",
    ")"
   ]
  },
  {
   "cell_type": "code",
   "execution_count": null,
   "metadata": {
    "id": "sCKAGi2VP__U"
   },
   "outputs": [],
   "source": [
    "# OPENAI_API_KEY = \"\"\n",
    "os.environ[\"OPENAI_API_KEY\"] = OPENAI_API_KEY"
   ]
  },
  {
   "cell_type": "code",
   "execution_count": null,
   "metadata": {
    "id": "wDDEaXURPzHc"
   },
   "outputs": [],
   "source": [
    "chat = ChatOpenAI(temperature=0)"
   ]
  },
  {
   "cell_type": "code",
   "execution_count": null,
   "metadata": {
    "colab": {
     "base_uri": "https://localhost:8080/"
    },
    "executionInfo": {
     "elapsed": 626,
     "status": "ok",
     "timestamp": 1685087323646,
     "user": {
      "displayName": "Thái Nguyễn Quốc",
      "userId": "03315292090052971901"
     },
     "user_tz": -420
    },
    "id": "EOwTkC9VQdxb",
    "outputId": "729cbfbe-b96e-4ec7-abdc-6708750ae4eb"
   },
   "outputs": [
    {
     "data": {
      "text/plain": [
       "AIMessage(content='Positive', additional_kwargs={}, example=False)"
      ]
     },
     "execution_count": 32,
     "metadata": {},
     "output_type": "execute_result"
    }
   ],
   "source": [
    "USER_INPUT = \"I love programming.\"\n",
    "FINAL_PROMPT = \"\"\"Classify the text into neutral, negative or positive. \n",
    "\n",
    "Text: {user_input}. \n",
    "Sentiment:\"\"\"\n",
    "\n",
    "chat([HumanMessage(content=FINAL_PROMPT.format(user_input=USER_INPUT))])"
   ]
  },
  {
   "cell_type": "code",
   "execution_count": null,
   "metadata": {
    "colab": {
     "base_uri": "https://localhost:8080/"
    },
    "executionInfo": {
     "elapsed": 884,
     "status": "ok",
     "timestamp": 1685087327403,
     "user": {
      "displayName": "Thái Nguyễn Quốc",
      "userId": "03315292090052971901"
     },
     "user_tz": -420
    },
    "id": "mnI_AZxGQhLB",
    "outputId": "14014152-dd63-428f-93e6-a42627d0e54a"
   },
   "outputs": [
    {
     "data": {
      "text/plain": [
       "AIMessage(content='Sentiment: Positive', additional_kwargs={}, example=False)"
      ]
     },
     "execution_count": 33,
     "metadata": {},
     "output_type": "execute_result"
    }
   ],
   "source": [
    "messages = [\n",
    "    SystemMessage(content=\"You are a helpful assistant that can classify the sentiment of input texts. The labels you can use are positive, negative and neutral.\"),\n",
    "    HumanMessage(content=\"Classify the following sentence: I am doing brilliant today!\"),\n",
    "]\n",
    "\n",
    "chat(messages)"
   ]
  },
  {
   "cell_type": "code",
   "execution_count": null,
   "metadata": {
    "colab": {
     "base_uri": "https://localhost:8080/"
    },
    "executionInfo": {
     "elapsed": 7570,
     "status": "ok",
     "timestamp": 1685087336927,
     "user": {
      "displayName": "Thái Nguyễn Quốc",
      "userId": "03315292090052971901"
     },
     "user_tz": -420
    },
    "id": "lVq0nmRDQnoy",
    "outputId": "d9dc066f-86b5-4359-a4d5-9eb66bb3f20a"
   },
   "outputs": [
    {
     "data": {
      "text/plain": [
       "AIMessage(content='Certainly! Black holes are formed when a massive star runs out of fuel and can no longer produce the energy needed to counteract the force of gravity. This causes the star to collapse in on itself, creating a singularity - a point of infinite density and zero volume. The gravitational pull of the singularity is so strong that nothing, not even light, can escape its grasp, hence the name \"black hole\". \\n\\nThere are also supermassive black holes, which are found at the centers of galaxies and are thought to have formed through the merging of smaller black holes and the accretion of matter. \\n\\nThe study of black holes is a fascinating and active area of research in astrophysics, and there is still much to be learned about these mysterious objects.', additional_kwargs={}, example=False)"
      ]
     },
     "execution_count": 34,
     "metadata": {},
     "output_type": "execute_result"
    }
   ],
   "source": [
    "messages = [\n",
    "    SystemMessage(content=\"You are an AI research assistant. You use a tone that is technical and scientific.\"),\n",
    "    HumanMessage(content=\"Hello, who are you?\"),\n",
    "    AIMessage(content=\"Greeting! I am an AI research assistant. How can I help you today?\"),\n",
    "    HumanMessage(content=\"Can you tell me about the creation of black holes?\")\n",
    "]\n",
    "\n",
    "chat(messages)"
   ]
  },
  {
   "cell_type": "markdown",
   "metadata": {
    "id": "n-lMyggrPCF9"
   },
   "source": [
    "#ChatGPT Application"
   ]
  },
  {
   "cell_type": "markdown",
   "metadata": {
    "id": "KIquX5Za-tM2"
   },
   "source": [
    "##1.Text Classification"
   ]
  },
  {
   "cell_type": "code",
   "execution_count": null,
   "metadata": {
    "colab": {
     "base_uri": "https://localhost:8080/",
     "height": 46
    },
    "executionInfo": {
     "elapsed": 1234,
     "status": "ok",
     "timestamp": 1684415431328,
     "user": {
      "displayName": "Thái Nguyễn Quốc",
      "userId": "03315292090052971901"
     },
     "user_tz": -420
    },
    "id": "zHVt8y0Q-ypk",
    "outputId": "3506c999-3ade-42dc-916d-816959cf19d3"
   },
   "outputs": [
    {
     "data": {
      "text/markdown": [
       "Opinion"
      ],
      "text/plain": [
       "<IPython.core.display.Markdown object>"
      ]
     },
     "execution_count": 56,
     "metadata": {},
     "output_type": "execute_result"
    }
   ],
   "source": [
    "prompt = \"\"\"Classify the following text.\n",
    "Text: I think the food was okay.\n",
    "This text is:\n",
    "\"\"\"\n",
    "\n",
    "response = get_completion(params, prompt)\n",
    "print_response(response)"
   ]
  },
  {
   "cell_type": "code",
   "execution_count": null,
   "metadata": {
    "colab": {
     "base_uri": "https://localhost:8080/",
     "height": 46
    },
    "executionInfo": {
     "elapsed": 441,
     "status": "ok",
     "timestamp": 1685074943071,
     "user": {
      "displayName": "Thái Nguyễn Quốc",
      "userId": "03315292090052971901"
     },
     "user_tz": -420
    },
    "id": "gw-HKW-2-9Qy",
    "outputId": "c7d7fdab-a5fc-4a34-fbc2-485277824610"
   },
   "outputs": [
    {
     "data": {
      "text/markdown": [
       "Neutral"
      ],
      "text/plain": [
       "<IPython.core.display.Markdown object>"
      ]
     },
     "execution_count": 9,
     "metadata": {},
     "output_type": "execute_result"
    }
   ],
   "source": [
    "prompt = \"\"\"Classify the following text into neutral, negative, postive.\n",
    "Text: I think the food was okay.\n",
    "This text is:\n",
    "\"\"\"\n",
    "\n",
    "response = get_completion(params, prompt)\n",
    "print_response(response)"
   ]
  },
  {
   "cell_type": "code",
   "execution_count": null,
   "metadata": {
    "colab": {
     "base_uri": "https://localhost:8080/",
     "height": 87
    },
    "executionInfo": {
     "elapsed": 3411,
     "status": "ok",
     "timestamp": 1684415501750,
     "user": {
      "displayName": "Thái Nguyễn Quốc",
      "userId": "03315292090052971901"
     },
     "user_tz": -420
    },
    "id": "xDAjP2Jb_FvT",
    "outputId": "a376967c-a10b-4fcc-a31e-1257201baba3"
   },
   "outputs": [
    {
     "data": {
      "text/markdown": [
       "Neutral.\n",
       "\n",
       "The text expresses a neutral sentiment, as the speaker expresses their opinion of the food as being simply \"okay.\" There is no indication that the speaker is particularly pleased or displeased with the food, suggesting a neutral sentiment."
      ],
      "text/plain": [
       "<IPython.core.display.Markdown object>"
      ]
     },
     "execution_count": 58,
     "metadata": {},
     "output_type": "execute_result"
    }
   ],
   "source": [
    "prompt = \"\"\"Classify the following text into neutral, negative, postive and explain why result is like this.\n",
    "Text: I think the food was okay.\n",
    "This text is:\n",
    "\"\"\"\n",
    "\n",
    "response = get_completion(params, prompt)\n",
    "print_response(response)"
   ]
  },
  {
   "cell_type": "code",
   "execution_count": null,
   "metadata": {
    "colab": {
     "base_uri": "https://localhost:8080/",
     "height": 46
    },
    "executionInfo": {
     "elapsed": 5839,
     "status": "ok",
     "timestamp": 1685074952969,
     "user": {
      "displayName": "Thái Nguyễn Quốc",
      "userId": "03315292090052971901"
     },
     "user_tz": -420
    },
    "id": "saGXcwoe_WMf",
    "outputId": "fc060379-a4c3-4a95-cbda-2677d8a1153a"
   },
   "outputs": [
    {
     "data": {
      "text/markdown": [
       "neutral."
      ],
      "text/plain": [
       "<IPython.core.display.Markdown object>"
      ]
     },
     "execution_count": 10,
     "metadata": {},
     "output_type": "execute_result"
    }
   ],
   "source": [
    "prompt = \"\"\"Classify the following text.\n",
    "Text: So bad.\n",
    "This text is: negative.\n",
    "Text: I think the food was okay.\n",
    "This text is:\n",
    "\"\"\"\n",
    "\n",
    "response = get_completion(params, prompt)\n",
    "print_response(response)"
   ]
  },
  {
   "cell_type": "code",
   "execution_count": null,
   "metadata": {
    "colab": {
     "base_uri": "https://localhost:8080/",
     "height": 46
    },
    "executionInfo": {
     "elapsed": 867,
     "status": "ok",
     "timestamp": 1685075320338,
     "user": {
      "displayName": "Thái Nguyễn Quốc",
      "userId": "03315292090052971901"
     },
     "user_tz": -420
    },
    "id": "BAl9t3adS0vT",
    "outputId": "750f1c28-d006-4785-c6a5-0f5ee5ce6f9d"
   },
   "outputs": [
    {
     "data": {
      "text/markdown": [
       "\n",
       "Negative, Unappetizing, Expensive"
      ],
      "text/plain": [
       "<IPython.core.display.Markdown object>"
      ]
     },
     "execution_count": 19,
     "metadata": {},
     "output_type": "execute_result"
    }
   ],
   "source": [
    "prompt = \"\"\"Classify the following text in multi-label.\n",
    "Text: it is very overpriced and not very tasty.\n",
    "This text is:\n",
    "\"\"\"\n",
    "\n",
    "response = get_completion(params, prompt)\n",
    "print_response(response)"
   ]
  },
  {
   "cell_type": "code",
   "execution_count": null,
   "metadata": {
    "colab": {
     "base_uri": "https://localhost:8080/",
     "height": 46
    },
    "executionInfo": {
     "elapsed": 1013,
     "status": "ok",
     "timestamp": 1685075329310,
     "user": {
      "displayName": "Thái Nguyễn Quốc",
      "userId": "03315292090052971901"
     },
     "user_tz": -420
    },
    "id": "HK5CcG9GT6Ne",
    "outputId": "da037da7-40a1-4350-99e5-343c44ea14e1"
   },
   "outputs": [
    {
     "data": {
      "text/markdown": [
       "Price: Overpriced\n",
       "Food: Not Tasty"
      ],
      "text/plain": [
       "<IPython.core.display.Markdown object>"
      ]
     },
     "execution_count": 21,
     "metadata": {},
     "output_type": "execute_result"
    }
   ],
   "source": [
    "prompt = \"\"\"Classify the following text in multi-label from: service, food, price, ambience, miscellaneous.\n",
    "Text: it is very overpriced and not very tasty.\n",
    "This text is:\n",
    "\"\"\"\n",
    "\n",
    "response = get_completion(params, prompt)\n",
    "print_response(response)"
   ]
  },
  {
   "cell_type": "code",
   "execution_count": null,
   "metadata": {
    "colab": {
     "base_uri": "https://localhost:8080/",
     "height": 46
    },
    "executionInfo": {
     "elapsed": 325,
     "status": "ok",
     "timestamp": 1685075342518,
     "user": {
      "displayName": "Thái Nguyễn Quốc",
      "userId": "03315292090052971901"
     },
     "user_tz": -420
    },
    "id": "v-XZdrzmTBqa",
    "outputId": "db17ca13-0405-45ce-d2f4-532fe99e9541"
   },
   "outputs": [
    {
     "data": {
      "text/markdown": [
       "Miscellaneous"
      ],
      "text/plain": [
       "<IPython.core.display.Markdown object>"
      ]
     },
     "execution_count": 22,
     "metadata": {},
     "output_type": "execute_result"
    }
   ],
   "source": [
    "prompt = \"\"\"Classify the following text in multi-label: service, food, price, ambience, miscellaneous.\n",
    "Text: But the staff was so horrible to us.\n",
    "This text is:\n",
    "\"\"\"\n",
    "\n",
    "response = get_completion(params, prompt)\n",
    "print_response(response)"
   ]
  },
  {
   "cell_type": "code",
   "execution_count": null,
   "metadata": {
    "colab": {
     "base_uri": "https://localhost:8080/",
     "height": 46
    },
    "executionInfo": {
     "elapsed": 1131,
     "status": "ok",
     "timestamp": 1685075730216,
     "user": {
      "displayName": "Thái Nguyễn Quốc",
      "userId": "03315292090052971901"
     },
     "user_tz": -420
    },
    "id": "ZUMnIGYSVrzH",
    "outputId": "4b456c4e-bf02-417a-d780-e9aa6a23091f"
   },
   "outputs": [
    {
     "data": {
      "text/markdown": [
       "\n",
       "Service: N/A\n",
       "Food: Yes\n",
       "Price: N/A\n",
       "Ambience: N/A\n",
       "Miscellaneous: Yes"
      ],
      "text/plain": [
       "<IPython.core.display.Markdown object>"
      ]
     },
     "execution_count": 23,
     "metadata": {},
     "output_type": "execute_result"
    }
   ],
   "source": [
    "prompt = \"\"\"Classify the following text in multi-label: service, food, price, ambience, miscellaneous.\n",
    "Text: Each table has a pot of boiling water sunken into its surface and you get platters of thin sliced meats various vegetables and rice and glass noodles.\n",
    "This text is:\n",
    "\"\"\"\n",
    "\n",
    "response = get_completion(params, prompt)\n",
    "print_response(response)"
   ]
  },
  {
   "cell_type": "markdown",
   "metadata": {
    "id": "x6WAN9g3_tei"
   },
   "source": [
    "##2.Machine Translation"
   ]
  },
  {
   "cell_type": "code",
   "execution_count": null,
   "metadata": {
    "colab": {
     "base_uri": "https://localhost:8080/",
     "height": 46
    },
    "executionInfo": {
     "elapsed": 1597,
     "status": "ok",
     "timestamp": 1684417632255,
     "user": {
      "displayName": "Thái Nguyễn Quốc",
      "userId": "03315292090052971901"
     },
     "user_tz": -420
    },
    "id": "3bbKSVAmGJvZ",
    "outputId": "e03e9091-fe7f-477a-8aec-db6dd555fd02"
   },
   "outputs": [
    {
     "data": {
      "text/markdown": [
       "\n",
       "I am learning Artificial Intelligence at AI VIET NAM."
      ],
      "text/plain": [
       "<IPython.core.display.Markdown object>"
      ]
     },
     "execution_count": 66,
     "metadata": {},
     "output_type": "execute_result"
    }
   ],
   "source": [
    "prompt = \"\"\"Translate these sentence from vi to en language.\n",
    "Text: Tôi đang học trí tuệ nhân tạo tại AI VIET NAM.\n",
    "\"\"\"\n",
    "\n",
    "response = get_completion(params, prompt)\n",
    "print_response(response)"
   ]
  },
  {
   "cell_type": "code",
   "execution_count": null,
   "metadata": {
    "colab": {
     "base_uri": "https://localhost:8080/",
     "height": 46
    },
    "executionInfo": {
     "elapsed": 1548,
     "status": "ok",
     "timestamp": 1684417707706,
     "user": {
      "displayName": "Thái Nguyễn Quốc",
      "userId": "03315292090052971901"
     },
     "user_tz": -420
    },
    "id": "H4Y60HZWGwh5",
    "outputId": "3c5a6189-dc98-4699-e54c-8b7e8ab9b050"
   },
   "outputs": [
    {
     "data": {
      "text/markdown": [
       "\n",
       "I am studying Artificial Intelligence at AI VIET NAM."
      ],
      "text/plain": [
       "<IPython.core.display.Markdown object>"
      ]
     },
     "execution_count": 70,
     "metadata": {},
     "output_type": "execute_result"
    }
   ],
   "source": [
    "prompt = \"\"\"What do these sentences mean in en?\n",
    "Text: Tôi đang học trí tuệ nhân tạo tại AI VIET NAM.\n",
    "\"\"\"\n",
    "\n",
    "response = get_completion(params, prompt)\n",
    "print_response(response)"
   ]
  },
  {
   "cell_type": "code",
   "execution_count": null,
   "metadata": {
    "colab": {
     "base_uri": "https://localhost:8080/",
     "height": 46
    },
    "executionInfo": {
     "elapsed": 1696,
     "status": "ok",
     "timestamp": 1684417726577,
     "user": {
      "displayName": "Thái Nguyễn Quốc",
      "userId": "03315292090052971901"
     },
     "user_tz": -420
    },
    "id": "fzaVjQPyHYZ4",
    "outputId": "6696c14d-b7ac-460f-b3cf-049473fab6a2"
   },
   "outputs": [
    {
     "data": {
      "text/markdown": [
       "\n",
       "I am learning Artificial Intelligence at AI VIET NAM."
      ],
      "text/plain": [
       "<IPython.core.display.Markdown object>"
      ]
     },
     "execution_count": 72,
     "metadata": {},
     "output_type": "execute_result"
    }
   ],
   "source": [
    "prompt = \"\"\"Please provide the en translation for these sentences:\n",
    "Text: Tôi đang học trí tuệ nhân tạo tại AI VIET NAM.\n",
    "\"\"\"\n",
    "\n",
    "response = get_completion(params, prompt)\n",
    "print_response(response)"
   ]
  },
  {
   "cell_type": "code",
   "execution_count": null,
   "metadata": {
    "colab": {
     "base_uri": "https://localhost:8080/",
     "height": 46
    },
    "executionInfo": {
     "elapsed": 1807,
     "status": "ok",
     "timestamp": 1684418830144,
     "user": {
      "displayName": "Thái Nguyễn Quốc",
      "userId": "03315292090052971901"
     },
     "user_tz": -420
    },
    "id": "UJlVphikLTlB",
    "outputId": "4cf0c0ef-26f1-4b4e-ff64-750f6a47dfb4"
   },
   "outputs": [
    {
     "data": {
      "text/markdown": [
       "Translated: I'm learning Artificial Intelligence at AI VIET NAM."
      ],
      "text/plain": [
       "<IPython.core.display.Markdown object>"
      ]
     },
     "execution_count": 75,
     "metadata": {},
     "output_type": "execute_result"
    }
   ],
   "source": [
    "prompt = \"\"\"Translate these sentence.\n",
    "Text: Trường học.\n",
    "Translated: School. \n",
    "Text: Tôi đang học trí tuệ nhân tạo tại AI VIET NAM.\n",
    "\"\"\"\n",
    "\n",
    "response = get_completion(params, prompt)\n",
    "print_response(response)"
   ]
  },
  {
   "cell_type": "code",
   "execution_count": null,
   "metadata": {
    "colab": {
     "base_uri": "https://localhost:8080/",
     "height": 46
    },
    "executionInfo": {
     "elapsed": 3276,
     "status": "ok",
     "timestamp": 1684418848672,
     "user": {
      "displayName": "Thái Nguyễn Quốc",
      "userId": "03315292090052971901"
     },
     "user_tz": -420
    },
    "id": "u-3Ei455HwCa",
    "outputId": "730e859b-33a4-4689-e7e2-fbbabd54acd5"
   },
   "outputs": [
    {
     "data": {
      "text/markdown": [
       "Translated: I'm learning Artificial Intelligence at AI VIET NAM."
      ],
      "text/plain": [
       "<IPython.core.display.Markdown object>"
      ]
     },
     "execution_count": 77,
     "metadata": {},
     "output_type": "execute_result"
    }
   ],
   "source": [
    "prompt = \"\"\"Translate these sentence.\n",
    "Text: Tôi thích nó.\n",
    "Translated: I like it. \n",
    "Text: Tôi đang học trí tuệ nhân tạo tại AI VIET NAM.\n",
    "\"\"\"\n",
    "\n",
    "response = get_completion(params, prompt)\n",
    "print_response(response)"
   ]
  },
  {
   "cell_type": "markdown",
   "metadata": {
    "id": "tVcDOjNBaJes"
   },
   "source": [
    "##3.Question Answering"
   ]
  },
  {
   "cell_type": "code",
   "execution_count": null,
   "metadata": {
    "colab": {
     "base_uri": "https://localhost:8080/",
     "height": 46
    },
    "executionInfo": {
     "elapsed": 1523,
     "status": "ok",
     "timestamp": 1684422903144,
     "user": {
      "displayName": "Thái Nguyễn Quốc",
      "userId": "03315292090052971901"
     },
     "user_tz": -420
    },
    "id": "PRtIbzA3bORM",
    "outputId": "42f65024-8b82-437a-bf96-6ef3a3361b82"
   },
   "outputs": [
    {
     "data": {
      "text/markdown": [
       "\n",
       "Answer: Ho Chi Minh was born in 1890 in Hoang Tru, a village in central Vietnam."
      ],
      "text/plain": [
       "<IPython.core.display.Markdown object>"
      ]
     },
     "execution_count": 6,
     "metadata": {},
     "output_type": "execute_result"
    }
   ],
   "source": [
    "prompt = \"\"\"Answer the following question:\n",
    "Question: Where was President Ho Chi Minh born?\n",
    "\"\"\"\n",
    "\n",
    "response = get_completion(params, prompt)\n",
    "print_response(response)"
   ]
  },
  {
   "cell_type": "code",
   "execution_count": null,
   "metadata": {
    "colab": {
     "base_uri": "https://localhost:8080/",
     "height": 46
    },
    "executionInfo": {
     "elapsed": 1909,
     "status": "ok",
     "timestamp": 1684422926156,
     "user": {
      "displayName": "Thái Nguyễn Quốc",
      "userId": "03315292090052971901"
     },
     "user_tz": -420
    },
    "id": "veUKQCjIaMcD",
    "outputId": "778c39e4-cbb6-4e7d-e22d-60b99891bc56"
   },
   "outputs": [
    {
     "data": {
      "text/markdown": [
       "\n",
       "Answer: Nghệ An province, French protectorate of Annam"
      ],
      "text/plain": [
       "<IPython.core.display.Markdown object>"
      ]
     },
     "execution_count": 7,
     "metadata": {},
     "output_type": "execute_result"
    }
   ],
   "source": [
    "prompt = \"\"\"Answer the following question:\n",
    "Question: Where was President Ho Chi Minh born?\n",
    "Context: Hồ Chí Minh (Nguyễn Sinh Cung; 19 May 1890 - 2 September 1969), commonly known as Uncle Ho (Bác Hồ), President Ho (Hồ Chủ tịch) and by other aliases and sobriquets, was a Vietnamese revolutionary and statesman. He served as Prime Minister of Vietnam from 1945 to 1955, and as President of Vietnam from 1945 until his death in 1969. Ideologically a Marxist–Leninist, he was the Chairman and First Secretary of the Workers' Party of Vietnam. Hồ Chí Minh was born in Nghệ An province in the French protectorate of Annam.\n",
    "\"\"\"\n",
    "\n",
    "response = get_completion(params, prompt)\n",
    "print_response(response)"
   ]
  },
  {
   "cell_type": "code",
   "execution_count": null,
   "metadata": {
    "colab": {
     "base_uri": "https://localhost:8080/",
     "height": 46
    },
    "executionInfo": {
     "elapsed": 2342,
     "status": "ok",
     "timestamp": 1684423322551,
     "user": {
      "displayName": "Thái Nguyễn Quốc",
      "userId": "03315292090052971901"
     },
     "user_tz": -420
    },
    "id": "YtmSC8I2c9mm",
    "outputId": "da589320-9ba7-4007-ee82-7acb9c0b734f"
   },
   "outputs": [
    {
     "data": {
      "text/markdown": [
       "\n",
       "Answer: Drinking from Narcissus's spring is said to cause the drinker to become entranced with their own reflection and unable to look away."
      ],
      "text/plain": [
       "<IPython.core.display.Markdown object>"
      ]
     },
     "execution_count": 8,
     "metadata": {},
     "output_type": "execute_result"
    }
   ],
   "source": [
    "prompt = \"\"\"Answer the following question:\n",
    "Question: What does a drink from narcissus’s spring cause the driker to do?\n",
    "\"\"\"\n",
    "\n",
    "response = get_completion(params, prompt)\n",
    "print_response(response)"
   ]
  },
  {
   "cell_type": "code",
   "execution_count": null,
   "metadata": {
    "colab": {
     "base_uri": "https://localhost:8080/",
     "height": 46
    },
    "executionInfo": {
     "elapsed": 1777,
     "status": "ok",
     "timestamp": 1684423379548,
     "user": {
      "displayName": "Thái Nguyễn Quốc",
      "userId": "03315292090052971901"
     },
     "user_tz": -420
    },
    "id": "GNQ8pG7bdFUc",
    "outputId": "77bff06f-6e99-4d42-f748-504c49670458"
   },
   "outputs": [
    {
     "data": {
      "text/markdown": [
       "\n",
       "A drink from Narcissus's spring causes the drinker to become infatuated with themselves, growing deeply in love with their own reflection."
      ],
      "text/plain": [
       "<IPython.core.display.Markdown object>"
      ]
     },
     "execution_count": 9,
     "metadata": {},
     "output_type": "execute_result"
    }
   ],
   "source": [
    "prompt = \"\"\"Answer the following question:\n",
    "Question: What does a drink from narcissus’s spring cause the driker to do?\n",
    "Context: Mercury has awakened Echo, who weeps for Narcisus, and states that a drink from Narcisscus’s spring causes the drinks to “Grow dotingly enamored of themselves.”\n",
    "\"\"\"\n",
    "\n",
    "response = get_completion(params, prompt)\n",
    "print_response(response)"
   ]
  },
  {
   "cell_type": "code",
   "execution_count": null,
   "metadata": {
    "colab": {
     "base_uri": "https://localhost:8080/",
     "height": 46
    },
    "executionInfo": {
     "elapsed": 1831,
     "status": "ok",
     "timestamp": 1684424122635,
     "user": {
      "displayName": "Thái Nguyễn Quốc",
      "userId": "03315292090052971901"
     },
     "user_tz": -420
    },
    "id": "T3GCzlIBf_ps",
    "outputId": "2bb2ba15-3e79-4508-e07c-f4f6a8b41e09"
   },
   "outputs": [
    {
     "data": {
      "text/markdown": [
       "Answer: Photosynthesis produces oxygen and glucose that helps plants grow."
      ],
      "text/plain": [
       "<IPython.core.display.Markdown object>"
      ]
     },
     "execution_count": 11,
     "metadata": {},
     "output_type": "execute_result"
    }
   ],
   "source": [
    "prompt = \"\"\"Answer the following question:\n",
    "Question: What does photosynthesis produce that helps plants gow?\n",
    "\"\"\"\n",
    "\n",
    "response = get_completion(params, prompt)\n",
    "print_response(response)"
   ]
  },
  {
   "cell_type": "code",
   "execution_count": null,
   "metadata": {
    "colab": {
     "base_uri": "https://localhost:8080/",
     "height": 46
    },
    "executionInfo": {
     "elapsed": 1298,
     "status": "ok",
     "timestamp": 1684424185674,
     "user": {
      "displayName": "Thái Nguyễn Quốc",
      "userId": "03315292090052971901"
     },
     "user_tz": -420
    },
    "id": "tkjHHkc2gIEF",
    "outputId": "82440dd5-d74b-401e-d059-d60a60fa4834"
   },
   "outputs": [
    {
     "data": {
      "text/markdown": [
       "\n",
       "Answer: (B) Oxygen"
      ],
      "text/plain": [
       "<IPython.core.display.Markdown object>"
      ]
     },
     "execution_count": 12,
     "metadata": {},
     "output_type": "execute_result"
    }
   ],
   "source": [
    "prompt = \"\"\"Answer the following question:\n",
    "Question: What does photosynthesis produce that helps plants gow?\n",
    "Candidate: (A) Water (B) Oxygen  (C) Protein (D) Sugar.\n",
    "\"\"\"\n",
    "\n",
    "response = get_completion(params, prompt)\n",
    "print_response(response)"
   ]
  },
  {
   "cell_type": "code",
   "execution_count": null,
   "metadata": {
    "colab": {
     "base_uri": "https://localhost:8080/",
     "height": 46
    },
    "executionInfo": {
     "elapsed": 2056,
     "status": "ok",
     "timestamp": 1684424328436,
     "user": {
      "displayName": "Thái Nguyễn Quốc",
      "userId": "03315292090052971901"
     },
     "user_tz": -420
    },
    "id": "FL5yNxpqgz7c",
    "outputId": "d2a50098-4380-4f92-f449-26f385eb54a5"
   },
   "outputs": [
    {
     "data": {
      "text/markdown": [
       "\n",
       "Answer: At this time, it is not possible to answer this question as the SEA Games 2023 have not taken place yet."
      ],
      "text/plain": [
       "<IPython.core.display.Markdown object>"
      ]
     },
     "execution_count": 13,
     "metadata": {},
     "output_type": "execute_result"
    }
   ],
   "source": [
    "prompt = \"\"\"Answer the following question:\n",
    "Question: How many gold medals does Vietnam have in SEA Games 2023?\n",
    "\"\"\"\n",
    "\n",
    "response = get_completion(params, prompt)\n",
    "print_response(response)"
   ]
  },
  {
   "cell_type": "code",
   "execution_count": null,
   "metadata": {
    "colab": {
     "base_uri": "https://localhost:8080/",
     "height": 46
    },
    "executionInfo": {
     "elapsed": 1430,
     "status": "ok",
     "timestamp": 1684424561172,
     "user": {
      "displayName": "Thái Nguyễn Quốc",
      "userId": "03315292090052971901"
     },
     "user_tz": -420
    },
    "id": "Vjx7dWgShsMn",
    "outputId": "c331792a-97e4-4eae-a55f-c19bf2e3ecf5"
   },
   "outputs": [
    {
     "data": {
      "text/markdown": [
       "\n",
       "Answer: Vietnam has 136 gold medals at the 2023 Southeast Asian (SEA) Games."
      ],
      "text/plain": [
       "<IPython.core.display.Markdown object>"
      ]
     },
     "execution_count": 14,
     "metadata": {},
     "output_type": "execute_result"
    }
   ],
   "source": [
    "prompt = \"\"\"Answer the following question:\n",
    "Question: How many gold medals does Vietnam have in SEA Games 2023?\n",
    "Context: Vietnam won 136 gold medals to secure the top spot in the medal tally as the 2023 Southeast Asian (SEA) Games in Cambodia came to the final official day of competition on Tuesday.\n",
    "\"\"\"\n",
    "\n",
    "response = get_completion(params, prompt)\n",
    "print_response(response)"
   ]
  },
  {
   "cell_type": "markdown",
   "metadata": {
    "id": "Aay_5z0PmV_3"
   },
   "source": [
    "##4.Coversation (Role Playing)"
   ]
  },
  {
   "cell_type": "code",
   "execution_count": null,
   "metadata": {
    "colab": {
     "base_uri": "https://localhost:8080/",
     "height": 64
    },
    "executionInfo": {
     "elapsed": 4385,
     "status": "ok",
     "timestamp": 1684425972202,
     "user": {
      "displayName": "Thái Nguyễn Quốc",
      "userId": "03315292090052971901"
     },
     "user_tz": -420
    },
    "id": "UaNnYP51mtA3",
    "outputId": "b027f082-c29b-4226-82dd-3cba2e2479de"
   },
   "outputs": [
    {
     "data": {
      "text/markdown": [
       "I'm sorry to hear that you're not satisfied with your purchase. We'll be glad to process a refund for you. Please provide us with the order number so we can expedite the process. Thank you for your time."
      ],
      "text/plain": [
       "<IPython.core.display.Markdown object>"
      ]
     },
     "execution_count": 16,
     "metadata": {},
     "output_type": "execute_result"
    }
   ],
   "source": [
    "prompt = \"\"\"This is a conversation between a customer and a polite, helpful customer service agent.\n",
    "Customer: Hi, I'd like a refund for the coffee maker I ordered. Would that be possible?\n",
    "AI: Response from the customer service agent: Hello. Thank you for reaching out to us. Yes,..\n",
    "\"\"\"\n",
    "\n",
    "response = get_completion(params, prompt)\n",
    "print_response(response)"
   ]
  },
  {
   "cell_type": "code",
   "execution_count": null,
   "metadata": {
    "colab": {
     "base_uri": "https://localhost:8080/",
     "height": 81
    },
    "executionInfo": {
     "elapsed": 4250,
     "status": "ok",
     "timestamp": 1684425833480,
     "user": {
      "displayName": "Thái Nguyễn Quốc",
      "userId": "03315292090052971901"
     },
     "user_tz": -420
    },
    "id": "n8KJ1h76mVVO",
    "outputId": "ab0ccab2-b65f-4f75-eb0d-2a43e84af4f1"
   },
   "outputs": [
    {
     "data": {
      "text/markdown": [
       " Absolutely! Black holes are created when a very large star collapses under its own gravity. The gravity of the star is so strong that it causes the star to collapse inward, creating a region of infinite density and powerful gravitational force. This gravitational force is so strong that nothing, not even light, can escape its grip."
      ],
      "text/plain": [
       "<IPython.core.display.Markdown object>"
      ]
     },
     "execution_count": 15,
     "metadata": {},
     "output_type": "execute_result"
    }
   ],
   "source": [
    "prompt = \"\"\"The following is a conversation with an AI research assistant. The assistant tone is technical and scientific.\n",
    "Human: Hello, who are you?\n",
    "AI: Greeting! I am an AI research assistant. How can I help you today?\n",
    "Human: Can you tell me about the creation of blackholes?\n",
    "AI:\"\"\"\n",
    "\n",
    "response = get_completion(params, prompt)\n",
    "print_response(response)"
   ]
  },
  {
   "cell_type": "markdown",
   "metadata": {
    "id": "lzLbC2N10HEx"
   },
   "source": [
    "##5.Reasoning"
   ]
  },
  {
   "cell_type": "code",
   "execution_count": null,
   "metadata": {
    "colab": {
     "base_uri": "https://localhost:8080/",
     "height": 46
    },
    "executionInfo": {
     "elapsed": 662,
     "status": "ok",
     "timestamp": 1684429590869,
     "user": {
      "displayName": "Thái Nguyễn Quốc",
      "userId": "03315292090052971901"
     },
     "user_tz": -420
    },
    "id": "TabGqy0A0MBE",
    "outputId": "24e73b60-f949-459d-8251-6f19da351787"
   },
   "outputs": [
    {
     "data": {
      "text/markdown": [
       "\n",
       "81,000,000"
      ],
      "text/plain": [
       "<IPython.core.display.Markdown object>"
      ]
     },
     "execution_count": 19,
     "metadata": {},
     "output_type": "execute_result"
    }
   ],
   "source": [
    "prompt = \"\"\"What is 9,000 * 9,000?\n",
    "\"\"\"\n",
    "\n",
    "response = get_completion(params, prompt)\n",
    "print_response(response)"
   ]
  },
  {
   "cell_type": "code",
   "execution_count": null,
   "metadata": {
    "colab": {
     "base_uri": "https://localhost:8080/",
     "height": 46
    },
    "executionInfo": {
     "elapsed": 1672,
     "status": "ok",
     "timestamp": 1684429627205,
     "user": {
      "displayName": "Thái Nguyễn Quốc",
      "userId": "03315292090052971901"
     },
     "user_tz": -420
    },
    "id": "f4prWEqV03Pf",
    "outputId": "e0b7b67f-fac1-492b-c4cd-5b913791b230"
   },
   "outputs": [
    {
     "data": {
      "text/markdown": [
       "\n",
       "The odd numbers in this group add up to 106, which is an even number."
      ],
      "text/plain": [
       "<IPython.core.display.Markdown object>"
      ]
     },
     "execution_count": 21,
     "metadata": {},
     "output_type": "execute_result"
    }
   ],
   "source": [
    "prompt = \"\"\"The odd numbers in this group add up to an even number: 15, 32, 5, 13, 82, 7, 1.\n",
    "\"\"\"\n",
    "\n",
    "response = get_completion(params, prompt)\n",
    "print_response(response)"
   ]
  },
  {
   "cell_type": "code",
   "execution_count": null,
   "metadata": {
    "colab": {
     "base_uri": "https://localhost:8080/",
     "height": 46
    },
    "executionInfo": {
     "elapsed": 1233,
     "status": "ok",
     "timestamp": 1684429655208,
     "user": {
      "displayName": "Thái Nguyễn Quốc",
      "userId": "03315292090052971901"
     },
     "user_tz": -420
    },
    "id": "xgSlhDeu1KnV",
    "outputId": "d05d61cd-f19e-4174-8d65-ef38e96714de"
   },
   "outputs": [
    {
     "data": {
      "text/markdown": [
       "\n",
       "The odd numbers add up to 118, which is an even number."
      ],
      "text/plain": [
       "<IPython.core.display.Markdown object>"
      ]
     },
     "execution_count": 22,
     "metadata": {},
     "output_type": "execute_result"
    }
   ],
   "source": [
    "prompt = \"\"\"The odd numbers in this group add up to an even number: 15, 32, 5, 13, 82, 7, 1.\n",
    "\"\"\"\n",
    "\n",
    "response = get_completion(params, prompt)\n",
    "print_response(response)"
   ]
  },
  {
   "cell_type": "code",
   "execution_count": null,
   "metadata": {
    "colab": {
     "base_uri": "https://localhost:8080/",
     "height": 93
    },
    "executionInfo": {
     "elapsed": 4438,
     "status": "ok",
     "timestamp": 1684429783150,
     "user": {
      "displayName": "Thái Nguyễn Quốc",
      "userId": "03315292090052971901"
     },
     "user_tz": -420
    },
    "id": "CJ--lQIE1SUP",
    "outputId": "1d42ca3c-2a8c-4474-f666-0cd9b2ee4dce"
   },
   "outputs": [
    {
     "data": {
      "text/markdown": [
       "\n",
       "Odd numbers: 15, 5, 13, 7, 1\n",
       "\n",
       "Sum of odd numbers: 41\n",
       "\n",
       "Result: 41 is an odd number."
      ],
      "text/plain": [
       "<IPython.core.display.Markdown object>"
      ]
     },
     "execution_count": 24,
     "metadata": {},
     "output_type": "execute_result"
    }
   ],
   "source": [
    "prompt = \"\"\"The odd numbers in this group add up to an even number: 15, 32, 5, 13, 82, 7, 1.\n",
    "Solve by breaking the problem into steps. First, identify the odd numbers, add them, and indicate whether the result is odd or even.\n",
    "\"\"\"\n",
    "\n",
    "response = get_completion(params, prompt)\n",
    "print_response(response)"
   ]
  },
  {
   "cell_type": "markdown",
   "metadata": {
    "id": "pkt6XWjl23iU"
   },
   "source": [
    "##6.Coding Applications"
   ]
  },
  {
   "cell_type": "code",
   "execution_count": null,
   "metadata": {
    "colab": {
     "base_uri": "https://localhost:8080/"
    },
    "executionInfo": {
     "elapsed": 1942,
     "status": "ok",
     "timestamp": 1684431074482,
     "user": {
      "displayName": "Thái Nguyễn Quốc",
      "userId": "03315292090052971901"
     },
     "user_tz": -420
    },
    "id": "gLIGqsms6X8h",
    "outputId": "248f3e51-e940-47f5-eb28-91c45d087ad6"
   },
   "outputs": [
    {
     "name": "stdout",
     "output_type": "stream",
     "text": [
      "\n",
      "def average(nums):\n",
      "    total = 0\n",
      "    for num in nums:\n",
      "        total += num\n",
      "    return total / len(nums)\n"
     ]
    }
   ],
   "source": [
    "prompt = \"\"\"Write a function that calculates the average of the numbers in Python List.\n",
    "\"\"\"\n",
    "\n",
    "response = get_completion(params, prompt)\n",
    "print(response.choices[0].text)"
   ]
  },
  {
   "cell_type": "code",
   "execution_count": null,
   "metadata": {
    "colab": {
     "base_uri": "https://localhost:8080/"
    },
    "executionInfo": {
     "elapsed": 2275,
     "status": "ok",
     "timestamp": 1684431003721,
     "user": {
      "displayName": "Thái Nguyễn Quốc",
      "userId": "03315292090052971901"
     },
     "user_tz": -420
    },
    "id": "0sdBEsSG27Wv",
    "outputId": "d1e5fc0d-d571-424b-f01d-13d24789053e"
   },
   "outputs": [
    {
     "name": "stdout",
     "output_type": "stream",
     "text": [
      "\n",
      "def averageList(list):\n",
      "  total = 0\n",
      "  for item in list:\n",
      "    total += item\n",
      "\n",
      "  return total/len(list)\n"
     ]
    }
   ],
   "source": [
    "prompt = \"\"\"Write a function that calculates the average of the numbers in Python List.\n",
    "\"\"\"\n",
    "\n",
    "response = get_completion(params, prompt)\n",
    "print(response.choices[0].text)"
   ]
  },
  {
   "cell_type": "code",
   "execution_count": null,
   "metadata": {
    "colab": {
     "base_uri": "https://localhost:8080/"
    },
    "executionInfo": {
     "elapsed": 2682,
     "status": "ok",
     "timestamp": 1684430718266,
     "user": {
      "displayName": "Thái Nguyễn Quốc",
      "userId": "03315292090052971901"
     },
     "user_tz": -420
    },
    "id": "LLYHUdQF5Jtt",
    "outputId": "4f36ae58-1a1d-4889-d66f-97fe51bec02e"
   },
   "outputs": [
    {
     "name": "stdout",
     "output_type": "stream",
     "text": [
      "\n",
      "def calculate_average(numbers):\n",
      "    \"\"\"Calculate the average of a list of numbers.\n",
      "    \n",
      "    Args:\n",
      "        numbers (list): List of numbers\n",
      "    \n",
      "    Returns:\n",
      "        float: Average of the numbers\n",
      "    \"\"\"\n",
      "    total = 0\n",
      "    for num in numbers:\n",
      "        total += num\n",
      "    return total / len(numbers)\n"
     ]
    }
   ],
   "source": [
    "prompt = \"\"\"Write a function that calculates the average of the numbers in a Python List.\n",
    "Add to comment for code\n",
    "\"\"\"\n",
    "\n",
    "response = get_completion(params, prompt)\n",
    "print(response.choices[0].text)"
   ]
  },
  {
   "cell_type": "code",
   "execution_count": null,
   "metadata": {
    "colab": {
     "base_uri": "https://localhost:8080/"
    },
    "executionInfo": {
     "elapsed": 2057,
     "status": "ok",
     "timestamp": 1684430874339,
     "user": {
      "displayName": "Thái Nguyễn Quốc",
      "userId": "03315292090052971901"
     },
     "user_tz": -420
    },
    "id": "2x79aALL5n9y",
    "outputId": "b4c740cb-6124-49d5-bb59-3bfab315996a"
   },
   "outputs": [
    {
     "name": "stdout",
     "output_type": "stream",
     "text": [
      "\n",
      "#Fix\n",
      "def average(nums):\n",
      "  total = 0\n",
      "  for num in nums: # Colon added\n",
      "    total += num\n",
      "  return total/len(nums)\n"
     ]
    }
   ],
   "source": [
    "prompt = \"\"\"Debug this code:\n",
    "def average(nums):\n",
    "  total = 0\n",
    "  for num in nums\n",
    "    total += num\n",
    "  return total/len(nums)\n",
    "\"\"\"\n",
    "\n",
    "response = get_completion(params, prompt)\n",
    "print(response.choices[0].text)"
   ]
  },
  {
   "cell_type": "code",
   "execution_count": null,
   "metadata": {
    "colab": {
     "base_uri": "https://localhost:8080/"
    },
    "executionInfo": {
     "elapsed": 2528,
     "status": "ok",
     "timestamp": 1684430899359,
     "user": {
      "displayName": "Thái Nguyễn Quốc",
      "userId": "03315292090052971901"
     },
     "user_tz": -420
    },
    "id": "G2YLZc9U54Qh",
    "outputId": "8de65a4f-9b2e-4be0-d02b-99f977d15d4b"
   },
   "outputs": [
    {
     "name": "stdout",
     "output_type": "stream",
     "text": [
      "\n",
      "#The code should be:\n",
      "def average(nums):\n",
      "  total = 0\n",
      "  for num in nums:\n",
      "    total += num\n",
      "  return total/len(nums)\n"
     ]
    }
   ],
   "source": [
    "prompt = \"\"\"Debug this code:\n",
    "def average(nums):\n",
    "  total = 0\n",
    "  for num in nums:\n",
    "    total += num\n",
    "  return total*len(nums)\n",
    "\"\"\"\n",
    "\n",
    "response = get_completion(params, prompt)\n",
    "print(response.choices[0].text)"
   ]
  },
  {
   "cell_type": "markdown",
   "metadata": {
    "id": "3vU8qr30tSD_"
   },
   "source": [
    "#ChatGPT Limitations"
   ]
  },
  {
   "cell_type": "code",
   "execution_count": null,
   "metadata": {
    "colab": {
     "base_uri": "https://localhost:8080/"
    },
    "executionInfo": {
     "elapsed": 1346,
     "status": "ok",
     "timestamp": 1684463947391,
     "user": {
      "displayName": "Thái Nguyễn Quốc",
      "userId": "03315292090052971901"
     },
     "user_tz": -420
    },
    "id": "UOiS0sxptXEu",
    "outputId": "a22f1642-fa51-4416-e18e-22a2f6d6defe"
   },
   "outputs": [
    {
     "name": "stdout",
     "output_type": "stream",
     "text": [
      "\n",
      "Answer: The world population reached 8 billion people in March 2021.\n"
     ]
    }
   ],
   "source": [
    "prompt = \"\"\" \n",
    "Question: When did the world population reach 8 billion people?\n",
    "\"\"\"\n",
    "\n",
    "response = get_completion(params, prompt)\n",
    "print(response.choices[0].text)"
   ]
  },
  {
   "cell_type": "code",
   "execution_count": null,
   "metadata": {
    "colab": {
     "base_uri": "https://localhost:8080/"
    },
    "executionInfo": {
     "elapsed": 1294,
     "status": "ok",
     "timestamp": 1684464215923,
     "user": {
      "displayName": "Thái Nguyễn Quốc",
      "userId": "03315292090052971901"
     },
     "user_tz": -420
    },
    "id": "mZmHCCvQ494a",
    "outputId": "9e86426e-14cf-4284-fde0-08dedd1a157d"
   },
   "outputs": [
    {
     "name": "stdout",
     "output_type": "stream",
     "text": [
      "\n",
      "Answer: There are three countries that start with the letter V: Venezuela, Vietnam, and Vanuatu.\n"
     ]
    }
   ],
   "source": [
    "prompt = \"\"\" \n",
    "Question: How many country names start with the letter V?\n",
    "\"\"\"\n",
    "\n",
    "response = get_completion(params, prompt)\n",
    "print(response.choices[0].text)"
   ]
  },
  {
   "cell_type": "code",
   "execution_count": null,
   "metadata": {
    "colab": {
     "base_uri": "https://localhost:8080/"
    },
    "executionInfo": {
     "elapsed": 2369,
     "status": "ok",
     "timestamp": 1684464432293,
     "user": {
      "displayName": "Thái Nguyễn Quốc",
      "userId": "03315292090052971901"
     },
     "user_tz": -420
    },
    "id": "YV5inWhl5ZjP",
    "outputId": "fbb2bd37-9415-4604-dae6-9f843549cc91"
   },
   "outputs": [
    {
     "name": "stdout",
     "output_type": "stream",
     "text": [
      "\n",
      "Answer: There are 4 letters 's' that appear last in each word of the sentence: seashore, sells, shells, seashells.\n"
     ]
    }
   ],
   "source": [
    "prompt = \"\"\" \n",
    "Question: Count the number of letters 's' that appear last in each word of the following sentence:\n",
    "Sentence: She sells seashells by the seashore, the shells she sells are surely seashells.\n",
    "\"\"\"\n",
    "\n",
    "response = get_completion(params, prompt)\n",
    "print(response.choices[0].text)"
   ]
  }
 ],
 "metadata": {
  "colab": {
   "provenance": []
  },
  "kernelspec": {
   "display_name": "Python 3",
   "name": "python3"
  },
  "language_info": {
   "name": "python"
  }
 },
 "nbformat": 4,
 "nbformat_minor": 0
}
